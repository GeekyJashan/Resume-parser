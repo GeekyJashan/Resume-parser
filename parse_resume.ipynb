{
 "cells": [
  {
   "cell_type": "code",
   "execution_count": 2,
   "metadata": {},
   "outputs": [
    {
     "name": "stderr",
     "output_type": "stream",
     "text": [
      "[nltk_data] Downloading package punkt to\n",
      "[nltk_data]     C:\\Users\\jashan\\AppData\\Roaming\\nltk_data...\n",
      "[nltk_data]   Package punkt is already up-to-date!\n",
      "[nltk_data] Downloading package averaged_perceptron_tagger to\n",
      "[nltk_data]     C:\\Users\\jashan\\AppData\\Roaming\\nltk_data...\n",
      "[nltk_data]   Package averaged_perceptron_tagger is already up-to-\n",
      "[nltk_data]       date!\n",
      "[nltk_data] Downloading package universal_tagset to\n",
      "[nltk_data]     C:\\Users\\jashan\\AppData\\Roaming\\nltk_data...\n",
      "[nltk_data]   Package universal_tagset is already up-to-date!\n"
     ]
    },
    {
     "data": {
      "text/plain": [
       "True"
      ]
     },
     "execution_count": 2,
     "metadata": {},
     "output_type": "execute_result"
    }
   ],
   "source": [
    "import nltk\n",
    "\n",
    "nltk.download('punkt')\n",
    "nltk.download('averaged_perceptron_tagger')\n",
    "nltk.download('universal_tagset')\n"
   ]
  },
  {
   "cell_type": "code",
   "execution_count": 8,
   "metadata": {},
   "outputs": [
    {
     "name": "stderr",
     "output_type": "stream",
     "text": [
      "[nltk_data] Downloading package maxent_ne_chunker to\n",
      "[nltk_data]     C:\\Users\\jashan\\AppData\\Roaming\\nltk_data...\n",
      "[nltk_data]   Package maxent_ne_chunker is already up-to-date!\n",
      "[nltk_data] Downloading package stopwords to\n",
      "[nltk_data]     C:\\Users\\jashan\\AppData\\Roaming\\nltk_data...\n",
      "[nltk_data]   Package stopwords is already up-to-date!\n"
     ]
    },
    {
     "data": {
      "text/plain": [
       "True"
      ]
     },
     "execution_count": 8,
     "metadata": {},
     "output_type": "execute_result"
    }
   ],
   "source": [
    "nltk.download('maxent_ne_chunker')\n",
    "nltk.download('stopwords')"
   ]
  },
  {
   "cell_type": "code",
   "execution_count": 10,
   "metadata": {},
   "outputs": [
    {
     "name": "stdout",
     "output_type": "stream",
     "text": [
      "Collecting resume-parser\n",
      "  Downloading resume_parser-0.8.4-py3-none-any.whl (9.2 MB)\n",
      "     ---------------------------------------- 9.2/9.2 MB 7.4 MB/s eta 0:00:00\n",
      "Requirement already satisfied: stemming>=1.0.1 in c:\\users\\jashan\\appdata\\local\\programs\\python\\python310\\lib\\site-packages (from resume-parser) (1.0.1)\n",
      "Requirement already satisfied: docx2txt>=0.8 in c:\\users\\jashan\\appdata\\local\\programs\\python\\python310\\lib\\site-packages (from resume-parser) (0.8)\n",
      "Requirement already satisfied: tika>=1.24 in c:\\users\\jashan\\appdata\\local\\programs\\python\\python310\\lib\\site-packages (from resume-parser) (2.6.0)\n",
      "Requirement already satisfied: pdfplumber>=0.5.23 in c:\\users\\jashan\\appdata\\local\\programs\\python\\python310\\lib\\site-packages (from resume-parser) (0.8.0)\n",
      "Requirement already satisfied: nltk>=3.5 in c:\\users\\jashan\\appdata\\local\\programs\\python\\python310\\lib\\site-packages (from resume-parser) (3.8.1)\n",
      "Requirement already satisfied: pdfminer.six>=20200517 in c:\\users\\jashan\\appdata\\local\\programs\\python\\python310\\lib\\site-packages (from resume-parser) (20221105)\n",
      "Requirement already satisfied: pandas>=1.1.0 in c:\\users\\jashan\\appdata\\local\\programs\\python\\python310\\lib\\site-packages (from resume-parser) (1.5.3)\n",
      "Requirement already satisfied: numpy>=1.19.1 in c:\\users\\jashan\\appdata\\local\\programs\\python\\python310\\lib\\site-packages (from resume-parser) (1.24.1)\n",
      "Requirement already satisfied: spacy>=2.3.2 in c:\\users\\jashan\\appdata\\local\\programs\\python\\python310\\lib\\site-packages (from resume-parser) (3.5.0)\n",
      "Requirement already satisfied: phonenumbers>=8.12.7 in c:\\users\\jashan\\appdata\\local\\programs\\python\\python310\\lib\\site-packages (from resume-parser) (8.13.6)\n",
      "Requirement already satisfied: regex>=2021.8.3 in c:\\users\\jashan\\appdata\\local\\programs\\python\\python310\\lib\\site-packages (from nltk>=3.5->resume-parser) (2022.10.31)\n",
      "Requirement already satisfied: joblib in c:\\users\\jashan\\appdata\\local\\programs\\python\\python310\\lib\\site-packages (from nltk>=3.5->resume-parser) (1.2.0)\n",
      "Requirement already satisfied: tqdm in c:\\users\\jashan\\appdata\\local\\programs\\python\\python310\\lib\\site-packages (from nltk>=3.5->resume-parser) (4.64.1)\n",
      "Requirement already satisfied: click in c:\\users\\jashan\\appdata\\local\\programs\\python\\python310\\lib\\site-packages (from nltk>=3.5->resume-parser) (8.1.3)\n",
      "Requirement already satisfied: pytz>=2020.1 in c:\\users\\jashan\\appdata\\local\\programs\\python\\python310\\lib\\site-packages (from pandas>=1.1.0->resume-parser) (2022.7.1)\n",
      "Requirement already satisfied: python-dateutil>=2.8.1 in c:\\users\\jashan\\appdata\\local\\programs\\python\\python310\\lib\\site-packages (from pandas>=1.1.0->resume-parser) (2.8.2)\n",
      "Requirement already satisfied: cryptography>=36.0.0 in c:\\users\\jashan\\appdata\\local\\programs\\python\\python310\\lib\\site-packages (from pdfminer.six>=20200517->resume-parser) (36.0.1)\n",
      "Requirement already satisfied: charset-normalizer>=2.0.0 in c:\\users\\jashan\\appdata\\local\\programs\\python\\python310\\lib\\site-packages (from pdfminer.six>=20200517->resume-parser) (3.0.1)\n",
      "Requirement already satisfied: Pillow>=9.1 in c:\\users\\jashan\\appdata\\local\\programs\\python\\python310\\lib\\site-packages (from pdfplumber>=0.5.23->resume-parser) (9.4.0)\n",
      "Requirement already satisfied: Wand>=0.6.10 in c:\\users\\jashan\\appdata\\local\\programs\\python\\python310\\lib\\site-packages (from pdfplumber>=0.5.23->resume-parser) (0.6.11)\n",
      "Requirement already satisfied: murmurhash<1.1.0,>=0.28.0 in c:\\users\\jashan\\appdata\\local\\programs\\python\\python310\\lib\\site-packages (from spacy>=2.3.2->resume-parser) (1.0.9)\n",
      "Requirement already satisfied: setuptools in c:\\users\\jashan\\appdata\\local\\programs\\python\\python310\\lib\\site-packages (from spacy>=2.3.2->resume-parser) (57.4.0)\n",
      "Requirement already satisfied: spacy-legacy<3.1.0,>=3.0.11 in c:\\users\\jashan\\appdata\\local\\programs\\python\\python310\\lib\\site-packages (from spacy>=2.3.2->resume-parser) (3.0.12)\n",
      "Requirement already satisfied: preshed<3.1.0,>=3.0.2 in c:\\users\\jashan\\appdata\\local\\programs\\python\\python310\\lib\\site-packages (from spacy>=2.3.2->resume-parser) (3.0.8)\n",
      "Requirement already satisfied: thinc<8.2.0,>=8.1.0 in c:\\users\\jashan\\appdata\\local\\programs\\python\\python310\\lib\\site-packages (from spacy>=2.3.2->resume-parser) (8.1.7)\n",
      "Requirement already satisfied: srsly<3.0.0,>=2.4.3 in c:\\users\\jashan\\appdata\\local\\programs\\python\\python310\\lib\\site-packages (from spacy>=2.3.2->resume-parser) (2.4.5)\n",
      "Requirement already satisfied: pydantic!=1.8,!=1.8.1,<1.11.0,>=1.7.4 in c:\\users\\jashan\\appdata\\local\\programs\\python\\python310\\lib\\site-packages (from spacy>=2.3.2->resume-parser) (1.10.5)\n",
      "Requirement already satisfied: typer<0.8.0,>=0.3.0 in c:\\users\\jashan\\appdata\\local\\programs\\python\\python310\\lib\\site-packages (from spacy>=2.3.2->resume-parser) (0.7.0)\n",
      "Requirement already satisfied: catalogue<2.1.0,>=2.0.6 in c:\\users\\jashan\\appdata\\local\\programs\\python\\python310\\lib\\site-packages (from spacy>=2.3.2->resume-parser) (2.0.8)\n",
      "Requirement already satisfied: pathy>=0.10.0 in c:\\users\\jashan\\appdata\\local\\programs\\python\\python310\\lib\\site-packages (from spacy>=2.3.2->resume-parser) (0.10.1)Note: you may need to restart the kernel to use updated packages.\n",
      "\n",
      "Requirement already satisfied: requests<3.0.0,>=2.13.0 in c:\\users\\jashan\\appdata\\local\\programs\\python\\python310\\lib\\site-packages (from spacy>=2.3.2->resume-parser) (2.28.2)\n",
      "Requirement already satisfied: jinja2 in c:\\users\\jashan\\appdata\\local\\programs\\python\\python310\\lib\\site-packages (from spacy>=2.3.2->resume-parser) (3.1.2)\n",
      "Requirement already satisfied: langcodes<4.0.0,>=3.2.0 in c:\\users\\jashan\\appdata\\local\\programs\\python\\python310\\lib\\site-packages (from spacy>=2.3.2->resume-parser) (3.3.0)\n",
      "Requirement already satisfied: smart-open<7.0.0,>=5.2.1 in c:\\users\\jashan\\appdata\\local\\programs\\python\\python310\\lib\\site-packages (from spacy>=2.3.2->resume-parser) (6.3.0)\n",
      "Requirement already satisfied: packaging>=20.0 in c:\\users\\jashan\\appdata\\local\\programs\\python\\python310\\lib\\site-packages (from spacy>=2.3.2->resume-parser) (23.0)\n",
      "Requirement already satisfied: spacy-loggers<2.0.0,>=1.0.0 in c:\\users\\jashan\\appdata\\local\\programs\\python\\python310\\lib\\site-packages (from spacy>=2.3.2->resume-parser) (1.0.4)\n",
      "Requirement already satisfied: wasabi<1.2.0,>=0.9.1 in c:\\users\\jashan\\appdata\\local\\programs\\python\\python310\\lib\\site-packages (from spacy>=2.3.2->resume-parser) (1.1.1)\n",
      "Requirement already satisfied: cymem<2.1.0,>=2.0.2 in c:\\users\\jashan\\appdata\\local\\programs\\python\\python310\\lib\\site-packages (from spacy>=2.3.2->resume-parser) (2.0.7)\n",
      "Requirement already satisfied: cffi>=1.12 in c:\\users\\jashan\\appdata\\local\\programs\\python\\python310\\lib\\site-packages (from cryptography>=36.0.0->pdfminer.six>=20200517->resume-parser) (1.15.0)\n",
      "Requirement already satisfied: typing-extensions>=4.2.0 in c:\\users\\jashan\\appdata\\local\\programs\\python\\python310\\lib\\site-packages (from pydantic!=1.8,!=1.8.1,<1.11.0,>=1.7.4->spacy>=2.3.2->resume-parser) (4.5.0)\n",
      "Requirement already satisfied: six>=1.5 in c:\\users\\jashan\\appdata\\local\\programs\\python\\python310\\lib\\site-packages (from python-dateutil>=2.8.1->pandas>=1.1.0->resume-parser) (1.16.0)\n",
      "Requirement already satisfied: idna<4,>=2.5 in c:\\users\\jashan\\appdata\\local\\programs\\python\\python310\\lib\\site-packages (from requests<3.0.0,>=2.13.0->spacy>=2.3.2->resume-parser) (3.3)\n",
      "Requirement already satisfied: certifi>=2017.4.17 in c:\\users\\jashan\\appdata\\local\\programs\\python\\python310\\lib\\site-packages (from requests<3.0.0,>=2.13.0->spacy>=2.3.2->resume-parser) (2021.10.8)\n",
      "Requirement already satisfied: urllib3<1.27,>=1.21.1 in c:\\users\\jashan\\appdata\\local\\programs\\python\\python310\\lib\\site-packages (from requests<3.0.0,>=2.13.0->spacy>=2.3.2->resume-parser) (1.26.8)\n",
      "Requirement already satisfied: blis<0.8.0,>=0.7.8 in c:\\users\\jashan\\appdata\\local\\programs\\python\\python310\\lib\\site-packages (from thinc<8.2.0,>=8.1.0->spacy>=2.3.2->resume-parser) (0.7.9)\n",
      "Requirement already satisfied: confection<1.0.0,>=0.0.1 in c:\\users\\jashan\\appdata\\local\\programs\\python\\python310\\lib\\site-packages (from thinc<8.2.0,>=8.1.0->spacy>=2.3.2->resume-parser) (0.0.4)\n",
      "Requirement already satisfied: colorama in c:\\users\\jashan\\appdata\\local\\programs\\python\\python310\\lib\\site-packages (from tqdm->nltk>=3.5->resume-parser) (0.4.6)\n",
      "Requirement already satisfied: MarkupSafe>=2.0 in c:\\users\\jashan\\appdata\\local\\programs\\python\\python310\\lib\\site-packages (from jinja2->spacy>=2.3.2->resume-parser) (2.1.2)\n",
      "Requirement already satisfied: pycparser in c:\\users\\jashan\\appdata\\local\\programs\\python\\python310\\lib\\site-packages (from cffi>=1.12->cryptography>=36.0.0->pdfminer.six>=20200517->resume-parser) (2.21)\n",
      "Installing collected packages: resume-parser\n",
      "Successfully installed resume-parser-0.8.4\n"
     ]
    }
   ],
   "source": [
    "pip install resume-parser"
   ]
  },
  {
   "cell_type": "code",
   "execution_count": 15,
   "metadata": {},
   "outputs": [
    {
     "ename": "SyntaxError",
     "evalue": "invalid syntax (Temp/ipykernel_4020/1298247699.py, line 1)",
     "output_type": "error",
     "traceback": [
      "\u001b[1;36m  File \u001b[1;32m\"C:\\Users\\jashan\\AppData\\Local\\Temp/ipykernel_4020/1298247699.py\"\u001b[1;36m, line \u001b[1;32m1\u001b[0m\n\u001b[1;33m    wget \"https://github.com/kbrajwani/resume_parser/raw/master/resume.pdf\"\u001b[0m\n\u001b[1;37m         ^\u001b[0m\n\u001b[1;31mSyntaxError\u001b[0m\u001b[1;31m:\u001b[0m invalid syntax\n"
     ]
    }
   ],
   "source": []
  },
  {
   "cell_type": "code",
   "execution_count": null,
   "metadata": {},
   "outputs": [],
   "source": []
  }
 ],
 "metadata": {
  "kernelspec": {
   "display_name": "Python 3",
   "language": "python",
   "name": "python3"
  },
  "language_info": {
   "codemirror_mode": {
    "name": "ipython",
    "version": 3
   },
   "file_extension": ".py",
   "mimetype": "text/x-python",
   "name": "python",
   "nbconvert_exporter": "python",
   "pygments_lexer": "ipython3",
   "version": "3.10.0"
  },
  "orig_nbformat": 4,
  "vscode": {
   "interpreter": {
    "hash": "7ae9dc20c62cf8a361bf0703b1469e9a349d77cffa82faa210b9227f91fc9cf6"
   }
  }
 },
 "nbformat": 4,
 "nbformat_minor": 2
}
